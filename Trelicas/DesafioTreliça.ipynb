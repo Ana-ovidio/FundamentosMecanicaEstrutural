{
 "cells": [
  {
   "cell_type": "code",
   "execution_count": 15,
   "id": "07b0022f",
   "metadata": {},
   "outputs": [],
   "source": [
    "import matplotlib.pyplot as plt\n",
    "import math\n",
    "import pandas as pd\n",
    "import numpy as np\n",
    "from tqdm import tqdm\n",
    "from anastruct import SystemElements"
   ]
  },
  {
   "cell_type": "code",
   "execution_count": 16,
   "id": "75b457ae",
   "metadata": {},
   "outputs": [],
   "source": [
    "qntd_interable = 5\n",
    "P1 = 2\n",
    "P2 = 5\n",
    "L = 1.2"
   ]
  },
  {
   "cell_type": "code",
   "execution_count": 17,
   "id": "075bedce",
   "metadata": {},
   "outputs": [],
   "source": [
    "def create_truss (cncts, P1, P2, nodes):\n",
    "    \n",
    "    #Create the truss elements \n",
    "    for connection in cncts:\n",
    "        element_truss = [list(nodes.get(connection[0])), list(nodes.get(connection[1]))]\n",
    "        ss.add_truss_element(location = element_truss)\n",
    "\n",
    "    #Include in the struct the extern loads \n",
    "    loads = {'B': (0, -P1, 0), 'C': (0, -P2, 0)}\n",
    "    for load in loads:\n",
    "        Fx, Fy, _ = loads.get(load)\n",
    "        node_id = ss.find_node_id(nodes.get(load))\n",
    "        ss.point_load(node_id=node_id, Fx=Fx, Fy=Fy)\n",
    "\n",
    "    #Extern supports \n",
    "    supports = {'A': (1, 1, 0), 'F': (1, 1, 0)}\n",
    "    for support in supports:\n",
    "        coord = supports.get(support)\n",
    "        for l in range(len(coord)):\n",
    "            if coord[l] != 0:\n",
    "                node_id = ss.find_node_id(nodes.get(support))\n",
    "                dir = l+1\n",
    "                ss.add_support_roll(node_id=node_id, direction=dir)\n",
    "\n",
    "    ss.solve()\n",
    "\n",
    "    elements = ss.get_element_results()\n",
    "    length = []\n",
    "    for element in elements:\n",
    "        if element['N'] <= 3.5:\n",
    "            length.append(element['length'])\n",
    "        else:\n",
    "            length.append(np.nan)\n",
    "    \n",
    "    return min(length)"
   ]
  },
  {
   "cell_type": "code",
   "execution_count": 18,
   "id": "da48930f",
   "metadata": {},
   "outputs": [
    {
     "name": "stderr",
     "output_type": "stream",
     "text": [
      "100%|████████████████████████████████████████████████████████████████████████████████████| 5/5 [00:01<00:00,  3.73it/s]\n"
     ]
    }
   ],
   "source": [
    "dict_length = {}\n",
    "\n",
    "for i in tqdm(range(qntd_interable), leave=True, position=0):\n",
    "    X = np.linspace(-0.5, +0.5, 100)\n",
    "    length_interval = []\n",
    "    for value in X:\n",
    "        \n",
    "        x0, x1, x2, x3, x4 = 0, 0, 0, 0, 0\n",
    "        if i==0:\n",
    "            x0 = value\n",
    "        if i==1:\n",
    "            x1 = value\n",
    "        if  i==2:\n",
    "            x2 = value\n",
    "        if i==3:\n",
    "            x3 = value\n",
    "        if i==4:\n",
    "            x4 = value\n",
    "        \n",
    "        ss = SystemElements()\n",
    "        \n",
    "        nodes = {\n",
    "        'A': (0, 0), \n",
    "        'B': (L, 0),\n",
    "        'C': (2*L, x4), \n",
    "        'D': ((2*L) + x2, L+x3),\n",
    "        'E': (L+x0, L+x1),\n",
    "        'F': (0, L)\n",
    "        }\n",
    "\n",
    "        cncts = [('A', 'B'), ('A', 'F'), ('B', 'C'),\n",
    "                 ('B', 'E'), ('B', 'F'), ('C', 'D'),\n",
    "                 ('C', 'E'), ('D', 'E'), ('E', 'F')]\n",
    "        \n",
    "        min_length = create_truss(cncts, P1, P2, nodes)\n",
    "        length_interval.append(min_length)\n",
    "    dict_length[i] = length_interval\n",
    "dict_length[i+1] = X"
   ]
  },
  {
   "cell_type": "code",
   "execution_count": 19,
   "id": "5a862742",
   "metadata": {
    "scrolled": true
   },
   "outputs": [
    {
     "data": {
      "text/html": [
       "<div>\n",
       "<style scoped>\n",
       "    .dataframe tbody tr th:only-of-type {\n",
       "        vertical-align: middle;\n",
       "    }\n",
       "\n",
       "    .dataframe tbody tr th {\n",
       "        vertical-align: top;\n",
       "    }\n",
       "\n",
       "    .dataframe thead th {\n",
       "        text-align: right;\n",
       "    }\n",
       "</style>\n",
       "<table border=\"1\" class=\"dataframe\">\n",
       "  <thead>\n",
       "    <tr style=\"text-align: right;\">\n",
       "      <th></th>\n",
       "      <th>0</th>\n",
       "      <th>1</th>\n",
       "      <th>2</th>\n",
       "      <th>3</th>\n",
       "      <th>4</th>\n",
       "      <th>5</th>\n",
       "    </tr>\n",
       "  </thead>\n",
       "  <tbody>\n",
       "    <tr>\n",
       "      <th>0</th>\n",
       "      <td>1.200000</td>\n",
       "      <td>0.700000</td>\n",
       "      <td>0.700000</td>\n",
       "      <td>0.700000</td>\n",
       "      <td>1.200000</td>\n",
       "      <td>-0.500000</td>\n",
       "    </tr>\n",
       "    <tr>\n",
       "      <th>1</th>\n",
       "      <td>1.200000</td>\n",
       "      <td>0.710101</td>\n",
       "      <td>0.710101</td>\n",
       "      <td>0.710101</td>\n",
       "      <td>1.200000</td>\n",
       "      <td>-0.489899</td>\n",
       "    </tr>\n",
       "    <tr>\n",
       "      <th>2</th>\n",
       "      <td>1.200000</td>\n",
       "      <td>0.720202</td>\n",
       "      <td>0.720202</td>\n",
       "      <td>0.720202</td>\n",
       "      <td>1.200000</td>\n",
       "      <td>-0.479798</td>\n",
       "    </tr>\n",
       "    <tr>\n",
       "      <th>3</th>\n",
       "      <td>1.200000</td>\n",
       "      <td>0.730303</td>\n",
       "      <td>0.730303</td>\n",
       "      <td>0.730303</td>\n",
       "      <td>1.200000</td>\n",
       "      <td>-0.469697</td>\n",
       "    </tr>\n",
       "    <tr>\n",
       "      <th>4</th>\n",
       "      <td>1.200000</td>\n",
       "      <td>0.740404</td>\n",
       "      <td>0.740404</td>\n",
       "      <td>0.740404</td>\n",
       "      <td>1.200000</td>\n",
       "      <td>-0.459596</td>\n",
       "    </tr>\n",
       "    <tr>\n",
       "      <th>...</th>\n",
       "      <td>...</td>\n",
       "      <td>...</td>\n",
       "      <td>...</td>\n",
       "      <td>...</td>\n",
       "      <td>...</td>\n",
       "      <td>...</td>\n",
       "    </tr>\n",
       "    <tr>\n",
       "      <th>95</th>\n",
       "      <td>0.740404</td>\n",
       "      <td>1.200000</td>\n",
       "      <td>1.200000</td>\n",
       "      <td>1.200000</td>\n",
       "      <td>0.740404</td>\n",
       "      <td>0.459596</td>\n",
       "    </tr>\n",
       "    <tr>\n",
       "      <th>96</th>\n",
       "      <td>0.730303</td>\n",
       "      <td>1.200000</td>\n",
       "      <td>1.200000</td>\n",
       "      <td>1.200000</td>\n",
       "      <td>0.730303</td>\n",
       "      <td>0.469697</td>\n",
       "    </tr>\n",
       "    <tr>\n",
       "      <th>97</th>\n",
       "      <td>0.720202</td>\n",
       "      <td>1.200000</td>\n",
       "      <td>1.200000</td>\n",
       "      <td>1.200000</td>\n",
       "      <td>0.720202</td>\n",
       "      <td>0.479798</td>\n",
       "    </tr>\n",
       "    <tr>\n",
       "      <th>98</th>\n",
       "      <td>0.710101</td>\n",
       "      <td>1.200000</td>\n",
       "      <td>1.200000</td>\n",
       "      <td>1.200000</td>\n",
       "      <td>0.710101</td>\n",
       "      <td>0.489899</td>\n",
       "    </tr>\n",
       "    <tr>\n",
       "      <th>99</th>\n",
       "      <td>0.700000</td>\n",
       "      <td>1.200000</td>\n",
       "      <td>1.200000</td>\n",
       "      <td>1.200000</td>\n",
       "      <td>0.700000</td>\n",
       "      <td>0.500000</td>\n",
       "    </tr>\n",
       "  </tbody>\n",
       "</table>\n",
       "<p>100 rows × 6 columns</p>\n",
       "</div>"
      ],
      "text/plain": [
       "           0         1         2         3         4         5\n",
       "0   1.200000  0.700000  0.700000  0.700000  1.200000 -0.500000\n",
       "1   1.200000  0.710101  0.710101  0.710101  1.200000 -0.489899\n",
       "2   1.200000  0.720202  0.720202  0.720202  1.200000 -0.479798\n",
       "3   1.200000  0.730303  0.730303  0.730303  1.200000 -0.469697\n",
       "4   1.200000  0.740404  0.740404  0.740404  1.200000 -0.459596\n",
       "..       ...       ...       ...       ...       ...       ...\n",
       "95  0.740404  1.200000  1.200000  1.200000  0.740404  0.459596\n",
       "96  0.730303  1.200000  1.200000  1.200000  0.730303  0.469697\n",
       "97  0.720202  1.200000  1.200000  1.200000  0.720202  0.479798\n",
       "98  0.710101  1.200000  1.200000  1.200000  0.710101  0.489899\n",
       "99  0.700000  1.200000  1.200000  1.200000  0.700000  0.500000\n",
       "\n",
       "[100 rows x 6 columns]"
      ]
     },
     "metadata": {},
     "output_type": "display_data"
    }
   ],
   "source": [
    "length_dataframe = pd.DataFrame(dict_length)\n",
    "display(length_dataframe)"
   ]
  },
  {
   "cell_type": "code",
   "execution_count": 21,
   "id": "cd6f1cb7",
   "metadata": {},
   "outputs": [],
   "source": [
    "length_dataframe.columns = ['x0', 'x1', 'x2', 'x3', 'x4', 'Displacement']\n",
    "length_dataframe = length_dataframe.set_index('Displacement')"
   ]
  },
  {
   "cell_type": "code",
   "execution_count": 22,
   "id": "105dc99a",
   "metadata": {
    "scrolled": true
   },
   "outputs": [
    {
     "data": {
      "text/html": [
       "<div>\n",
       "<style scoped>\n",
       "    .dataframe tbody tr th:only-of-type {\n",
       "        vertical-align: middle;\n",
       "    }\n",
       "\n",
       "    .dataframe tbody tr th {\n",
       "        vertical-align: top;\n",
       "    }\n",
       "\n",
       "    .dataframe thead th {\n",
       "        text-align: right;\n",
       "    }\n",
       "</style>\n",
       "<table border=\"1\" class=\"dataframe\">\n",
       "  <thead>\n",
       "    <tr style=\"text-align: right;\">\n",
       "      <th></th>\n",
       "      <th>x0</th>\n",
       "      <th>x1</th>\n",
       "      <th>x2</th>\n",
       "      <th>x3</th>\n",
       "      <th>x4</th>\n",
       "    </tr>\n",
       "    <tr>\n",
       "      <th>Displacement</th>\n",
       "      <th></th>\n",
       "      <th></th>\n",
       "      <th></th>\n",
       "      <th></th>\n",
       "      <th></th>\n",
       "    </tr>\n",
       "  </thead>\n",
       "  <tbody>\n",
       "    <tr>\n",
       "      <th>-0.500000</th>\n",
       "      <td>1.2</td>\n",
       "      <td>0.700000</td>\n",
       "      <td>0.700000</td>\n",
       "      <td>0.700000</td>\n",
       "      <td>1.2</td>\n",
       "    </tr>\n",
       "    <tr>\n",
       "      <th>-0.489899</th>\n",
       "      <td>1.2</td>\n",
       "      <td>0.710101</td>\n",
       "      <td>0.710101</td>\n",
       "      <td>0.710101</td>\n",
       "      <td>1.2</td>\n",
       "    </tr>\n",
       "    <tr>\n",
       "      <th>-0.479798</th>\n",
       "      <td>1.2</td>\n",
       "      <td>0.720202</td>\n",
       "      <td>0.720202</td>\n",
       "      <td>0.720202</td>\n",
       "      <td>1.2</td>\n",
       "    </tr>\n",
       "  </tbody>\n",
       "</table>\n",
       "</div>"
      ],
      "text/plain": [
       "               x0        x1        x2        x3   x4\n",
       "Displacement                                        \n",
       "-0.500000     1.2  0.700000  0.700000  0.700000  1.2\n",
       "-0.489899     1.2  0.710101  0.710101  0.710101  1.2\n",
       "-0.479798     1.2  0.720202  0.720202  0.720202  1.2"
      ]
     },
     "execution_count": 22,
     "metadata": {},
     "output_type": "execute_result"
    }
   ],
   "source": [
    "length_dataframe.head(3)"
   ]
  },
  {
   "cell_type": "code",
   "execution_count": 23,
   "id": "2687c374",
   "metadata": {
    "scrolled": true
   },
   "outputs": [
    {
     "name": "stdout",
     "output_type": "stream",
     "text": [
      "<class 'pandas.core.frame.DataFrame'>\n",
      "Float64Index: 100 entries, -0.5 to 0.5\n",
      "Data columns (total 5 columns):\n",
      " #   Column  Non-Null Count  Dtype  \n",
      "---  ------  --------------  -----  \n",
      " 0   x0      100 non-null    float64\n",
      " 1   x1      100 non-null    float64\n",
      " 2   x2      100 non-null    float64\n",
      " 3   x3      100 non-null    float64\n",
      " 4   x4      100 non-null    float64\n",
      "dtypes: float64(5)\n",
      "memory usage: 4.7 KB\n"
     ]
    }
   ],
   "source": [
    "length_dataframe.info()"
   ]
  },
  {
   "cell_type": "code",
   "execution_count": 26,
   "id": "c36f32c2",
   "metadata": {},
   "outputs": [
    {
     "data": {
      "image/png": "[encoded data removed]",
      "text/plain": [
       "<Figure size 432x288 with 1 Axes>"
      ]
     },
     "metadata": {
      "needs_background": "light"
     },
     "output_type": "display_data"
    }
   ],
   "source": [
    "colors = ['cyan', 'red', 'darkorange', 'darkgreen', 'purple']\n",
    "for i, color in enumerate(colors):\n",
    "    plt.plot(length_dataframe.index, length_dataframe[length_dataframe.columns[i]], \n",
    "             marker='o', markersize=0.5, lw=1, color=color, label = length_dataframe.columns[i])\n",
    "plt.grid(linestyle = '--')\n",
    "plt.xlabel('Displacement')\n",
    "plt.ylabel('Minimun Length')\n",
    "plt.legend()\n",
    "plt.show()"
   ]
  }
 ],
 "metadata": {
  "kernelspec": {
   "display_name": "Python 3 (ipykernel)",
   "language": "python",
   "name": "python3"
  },
  "language_info": {
   "codemirror_mode": {
    "name": "ipython",
    "version": 3
   },
   "file_extension": ".py",
   "mimetype": "text/x-python",
   "name": "python",
   "nbconvert_exporter": "python",
   "pygments_lexer": "ipython3",
   "version": "3.9.7"
  }
 },
 "nbformat": 4,
 "nbformat_minor": 5
}
