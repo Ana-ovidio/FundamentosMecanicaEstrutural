{
 "cells": [
  {
   "cell_type": "markdown",
   "id": "431666f8",
   "metadata": {},
   "source": [
    "## **Representação das treliças no plano**\n",
    "\n",
    "**Importações**\n",
    "       from anastruct import SystemElements\n",
    "\n",
    "**Principais passos a serem seguidos "
   ]
  },
  {
   "cell_type": "code",
   "execution_count": 1,
   "id": "c3ce671c",
   "metadata": {},
   "outputs": [],
   "source": [
    "from anastruct import SystemElements"
   ]
  }
 ],
 "metadata": {
  "kernelspec": {
   "display_name": "Python 3 (ipykernel)",
   "language": "python",
   "name": "python3"
  },
  "language_info": {
   "codemirror_mode": {
    "name": "ipython",
    "version": 3
   },
   "file_extension": ".py",
   "mimetype": "text/x-python",
   "name": "python",
   "nbconvert_exporter": "python",
   "pygments_lexer": "ipython3",
   "version": "3.9.7"
  }
 },
 "nbformat": 4,
 "nbformat_minor": 5
}
